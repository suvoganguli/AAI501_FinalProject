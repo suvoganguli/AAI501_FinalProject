{
 "cells": [
  {
   "cell_type": "markdown",
   "id": "ba18b930-2cae-41c5-ae50-df81a8a81058",
   "metadata": {},
   "source": [
    "# Human Activity Recognition Using Smartphones\n",
    "\n",
    "The Human Activity Recognition database is built from the recordings of 30 subjects performing activities of daily living (ADL) while carrying a waist-mounted smartphone with embedded inertial sensors.\n",
    "\n",
    "The goal of the Final Project is to predict the type of activity of the subject from the inertial sensor data recorded from the waist-mounted smartphones "
   ]
  },
  {
   "cell_type": "code",
   "execution_count": 1,
   "id": "47961cca-8952-4e0d-8b96-c676b7a3d205",
   "metadata": {},
   "outputs": [],
   "source": [
    "# import libraries\n",
    "\n",
    "import numpy as np\n",
    "import pandas as pd"
   ]
  },
  {
   "cell_type": "markdown",
   "id": "462e4ec4-abe5-4881-8fad-fb146e88fad7",
   "metadata": {},
   "source": [
    "## Get the Training and Test Data"
   ]
  },
  {
   "cell_type": "code",
   "execution_count": 7,
   "id": "5585bfc6-4026-47ed-b918-a0e89769a90a",
   "metadata": {},
   "outputs": [
    {
     "name": "stdout",
     "output_type": "stream",
     "text": [
      "No. of Features: 561\n"
     ]
    }
   ],
   "source": [
    "# get the features\n",
    "feature_file = 'data/features.txt'\n",
    "\n",
    "features = []\n",
    "with open(feature_file, 'r') as file:\n",
    "    for line in file:\n",
    "        columns = line.split()\n",
    "        features.append(columns[1])\n",
    "\n",
    "print('No. of Features: {}'.format(len(features)))\n"
   ]
  },
  {
   "cell_type": "code",
   "execution_count": 24,
   "id": "1e9170bd-3cb0-4bda-bb67-907619868c44",
   "metadata": {},
   "outputs": [
    {
     "name": "stdout",
     "output_type": "stream",
     "text": [
      "Length of unique features = 561\n"
     ]
    }
   ],
   "source": [
    "# create a list of unique features by appending 'n' at the end of the feature till the \n",
    "# length of the unique feature list matches that of the original list of features\n",
    "\n",
    "seen = set()\n",
    "uniq_features = []\n",
    "for idx, x in enumerate(features):\n",
    "    if x not in seen:\n",
    "        uniq_features.append(x)\n",
    "        seen.add(x)\n",
    "    elif x + 'n' not in seen:\n",
    "        uniq_features.append(x + 'n')\n",
    "        seen.add(x + 'n')\n",
    "    else:\n",
    "        uniq_features.append(x + 'nn')\n",
    "        seen.add(x + 'nn')\n",
    "print(\"Length of unique features = \" + str(len(uniq_features)))\n"
   ]
  },
  {
   "cell_type": "code",
   "execution_count": 10,
   "id": "ff605f8c-4b9f-44bc-859d-e1a560b9d15c",
   "metadata": {},
   "outputs": [
    {
     "data": {
      "text/html": [
       "<div>\n",
       "<style scoped>\n",
       "    .dataframe tbody tr th:only-of-type {\n",
       "        vertical-align: middle;\n",
       "    }\n",
       "\n",
       "    .dataframe tbody tr th {\n",
       "        vertical-align: top;\n",
       "    }\n",
       "\n",
       "    .dataframe thead th {\n",
       "        text-align: right;\n",
       "    }\n",
       "</style>\n",
       "<table border=\"1\" class=\"dataframe\">\n",
       "  <thead>\n",
       "    <tr style=\"text-align: right;\">\n",
       "      <th></th>\n",
       "      <th>tBodyAcc-mean()-X</th>\n",
       "      <th>tBodyAcc-mean()-Y</th>\n",
       "      <th>tBodyAcc-mean()-Z</th>\n",
       "      <th>tBodyAcc-std()-X</th>\n",
       "      <th>tBodyAcc-std()-Y</th>\n",
       "      <th>tBodyAcc-std()-Z</th>\n",
       "      <th>tBodyAcc-mad()-X</th>\n",
       "      <th>tBodyAcc-mad()-Y</th>\n",
       "      <th>tBodyAcc-mad()-Z</th>\n",
       "      <th>tBodyAcc-max()-X</th>\n",
       "      <th>...</th>\n",
       "      <th>angle(tBodyAccMean,gravity)</th>\n",
       "      <th>angle(tBodyAccJerkMean),gravityMean)</th>\n",
       "      <th>angle(tBodyGyroMean,gravityMean)</th>\n",
       "      <th>angle(tBodyGyroJerkMean,gravityMean)</th>\n",
       "      <th>angle(X,gravityMean)</th>\n",
       "      <th>angle(Y,gravityMean)</th>\n",
       "      <th>angle(Z,gravityMean)</th>\n",
       "      <th>subject</th>\n",
       "      <th>Activity</th>\n",
       "      <th>ActivityName</th>\n",
       "    </tr>\n",
       "  </thead>\n",
       "  <tbody>\n",
       "    <tr>\n",
       "      <th>2566</th>\n",
       "      <td>0.278423</td>\n",
       "      <td>-0.034008</td>\n",
       "      <td>-0.126925</td>\n",
       "      <td>-0.996372</td>\n",
       "      <td>-0.967098</td>\n",
       "      <td>-0.982184</td>\n",
       "      <td>-0.996405</td>\n",
       "      <td>-0.965976</td>\n",
       "      <td>-0.980818</td>\n",
       "      <td>-0.940356</td>\n",
       "      <td>...</td>\n",
       "      <td>-0.072012</td>\n",
       "      <td>0.178544</td>\n",
       "      <td>0.405054</td>\n",
       "      <td>0.568242</td>\n",
       "      <td>-0.804295</td>\n",
       "      <td>0.223146</td>\n",
       "      <td>-0.03571</td>\n",
       "      <td>15</td>\n",
       "      <td>5</td>\n",
       "      <td>STANDING</td>\n",
       "    </tr>\n",
       "  </tbody>\n",
       "</table>\n",
       "<p>1 rows × 564 columns</p>\n",
       "</div>"
      ],
      "text/plain": [
       "      tBodyAcc-mean()-X  tBodyAcc-mean()-Y  tBodyAcc-mean()-Z  \\\n",
       "2566           0.278423          -0.034008          -0.126925   \n",
       "\n",
       "      tBodyAcc-std()-X  tBodyAcc-std()-Y  tBodyAcc-std()-Z  tBodyAcc-mad()-X  \\\n",
       "2566         -0.996372         -0.967098         -0.982184         -0.996405   \n",
       "\n",
       "      tBodyAcc-mad()-Y  tBodyAcc-mad()-Z  tBodyAcc-max()-X  ...  \\\n",
       "2566         -0.965976         -0.980818         -0.940356  ...   \n",
       "\n",
       "      angle(tBodyAccMean,gravity)  angle(tBodyAccJerkMean),gravityMean)  \\\n",
       "2566                    -0.072012                              0.178544   \n",
       "\n",
       "      angle(tBodyGyroMean,gravityMean)  angle(tBodyGyroJerkMean,gravityMean)  \\\n",
       "2566                          0.405054                              0.568242   \n",
       "\n",
       "      angle(X,gravityMean)  angle(Y,gravityMean)  angle(Z,gravityMean)  \\\n",
       "2566             -0.804295              0.223146              -0.03571   \n",
       "\n",
       "      subject  Activity  ActivityName  \n",
       "2566       15         5      STANDING  \n",
       "\n",
       "[1 rows x 564 columns]"
      ]
     },
     "execution_count": 10,
     "metadata": {},
     "output_type": "execute_result"
    }
   ],
   "source": [
    "# get the training data from txt files to pandas dataffame\n",
    "X_train = pd.read_csv('data/train/X_train.txt', delim_whitespace=True, header=None, names=uniq_features)\n",
    "\n",
    "# # add subject column to the dataframe\n",
    "X_train['subject'] = pd.read_csv('data/train/subject_train.txt', header=None)\n",
    "\n",
    "y_train = pd.read_csv('data/train/y_train.txt', names=['Activity'])\n",
    "\n",
    "def map_labels(value):\n",
    "    label_map = {1: 'WALKING', 2: 'WALKING_UPSTAIRS', 3: 'WALKING_DOWNSTAIRS', 4: 'SITTING', 5: 'STANDING', 6: 'LAYING'}\n",
    "    return label_map[value]\n",
    "\n",
    "y_train_labels = y_train.map(map_labels)\n",
    "\n",
    "# # put all columns in a single dataframe\n",
    "train = X_train\n",
    "train['Activity'] = y_train\n",
    "train['ActivityName'] = y_train_labels\n",
    "train.sample()"
   ]
  },
  {
   "cell_type": "code",
   "execution_count": 25,
   "id": "6b27b42e-5cb6-4435-9b9f-2aaa8d4a2ec9",
   "metadata": {},
   "outputs": [
    {
     "data": {
      "text/html": [
       "<div>\n",
       "<style scoped>\n",
       "    .dataframe tbody tr th:only-of-type {\n",
       "        vertical-align: middle;\n",
       "    }\n",
       "\n",
       "    .dataframe tbody tr th {\n",
       "        vertical-align: top;\n",
       "    }\n",
       "\n",
       "    .dataframe thead th {\n",
       "        text-align: right;\n",
       "    }\n",
       "</style>\n",
       "<table border=\"1\" class=\"dataframe\">\n",
       "  <thead>\n",
       "    <tr style=\"text-align: right;\">\n",
       "      <th></th>\n",
       "      <th>tBodyAcc-mean()-X</th>\n",
       "      <th>tBodyAcc-mean()-Y</th>\n",
       "      <th>tBodyAcc-mean()-Z</th>\n",
       "      <th>tBodyAcc-std()-X</th>\n",
       "      <th>tBodyAcc-std()-Y</th>\n",
       "      <th>tBodyAcc-std()-Z</th>\n",
       "      <th>tBodyAcc-mad()-X</th>\n",
       "      <th>tBodyAcc-mad()-Y</th>\n",
       "      <th>tBodyAcc-mad()-Z</th>\n",
       "      <th>tBodyAcc-max()-X</th>\n",
       "      <th>...</th>\n",
       "      <th>angle(tBodyAccMean,gravity)</th>\n",
       "      <th>angle(tBodyAccJerkMean),gravityMean)</th>\n",
       "      <th>angle(tBodyGyroMean,gravityMean)</th>\n",
       "      <th>angle(tBodyGyroJerkMean,gravityMean)</th>\n",
       "      <th>angle(X,gravityMean)</th>\n",
       "      <th>angle(Y,gravityMean)</th>\n",
       "      <th>angle(Z,gravityMean)</th>\n",
       "      <th>subject</th>\n",
       "      <th>Activity</th>\n",
       "      <th>ActivityName</th>\n",
       "    </tr>\n",
       "  </thead>\n",
       "  <tbody>\n",
       "    <tr>\n",
       "      <th>2687</th>\n",
       "      <td>0.286355</td>\n",
       "      <td>-0.035174</td>\n",
       "      <td>-0.140594</td>\n",
       "      <td>-0.470594</td>\n",
       "      <td>-0.161859</td>\n",
       "      <td>-0.270344</td>\n",
       "      <td>-0.490161</td>\n",
       "      <td>-0.213268</td>\n",
       "      <td>-0.264895</td>\n",
       "      <td>-0.395903</td>\n",
       "      <td>...</td>\n",
       "      <td>-0.173484</td>\n",
       "      <td>0.313432</td>\n",
       "      <td>0.290348</td>\n",
       "      <td>-0.639894</td>\n",
       "      <td>-0.841003</td>\n",
       "      <td>0.146476</td>\n",
       "      <td>0.121483</td>\n",
       "      <td>24</td>\n",
       "      <td>1</td>\n",
       "      <td>WALKING</td>\n",
       "    </tr>\n",
       "  </tbody>\n",
       "</table>\n",
       "<p>1 rows × 564 columns</p>\n",
       "</div>"
      ],
      "text/plain": [
       "      tBodyAcc-mean()-X  tBodyAcc-mean()-Y  tBodyAcc-mean()-Z  \\\n",
       "2687           0.286355          -0.035174          -0.140594   \n",
       "\n",
       "      tBodyAcc-std()-X  tBodyAcc-std()-Y  tBodyAcc-std()-Z  tBodyAcc-mad()-X  \\\n",
       "2687         -0.470594         -0.161859         -0.270344         -0.490161   \n",
       "\n",
       "      tBodyAcc-mad()-Y  tBodyAcc-mad()-Z  tBodyAcc-max()-X  ...  \\\n",
       "2687         -0.213268         -0.264895         -0.395903  ...   \n",
       "\n",
       "      angle(tBodyAccMean,gravity)  angle(tBodyAccJerkMean),gravityMean)  \\\n",
       "2687                    -0.173484                              0.313432   \n",
       "\n",
       "      angle(tBodyGyroMean,gravityMean)  angle(tBodyGyroJerkMean,gravityMean)  \\\n",
       "2687                          0.290348                             -0.639894   \n",
       "\n",
       "      angle(X,gravityMean)  angle(Y,gravityMean)  angle(Z,gravityMean)  \\\n",
       "2687             -0.841003              0.146476              0.121483   \n",
       "\n",
       "      subject  Activity  ActivityName  \n",
       "2687       24         1       WALKING  \n",
       "\n",
       "[1 rows x 564 columns]"
      ]
     },
     "execution_count": 25,
     "metadata": {},
     "output_type": "execute_result"
    }
   ],
   "source": [
    "# get the test data from txt files to pandas dataffame\n",
    "X_test = pd.read_csv('data/test/X_test.txt', delim_whitespace=True, header=None, names=uniq_features)\n",
    "\n",
    "# # add subject column to the dataframe\n",
    "X_test['subject'] = pd.read_csv('data/test/subject_test.txt', header=None)\n",
    "\n",
    "y_test = pd.read_csv('data/test/y_test.txt', names=['Activity'])\n",
    "\n",
    "def map_labels(value):\n",
    "    label_map = {1: 'WALKING', 2: 'WALKING_UPSTAIRS', 3: 'WALKING_DOWNSTAIRS', 4: 'SITTING', 5: 'STANDING', 6: 'LAYING'}\n",
    "    return label_map[value]\n",
    "\n",
    "y_test_labels = y_test.map(map_labels)\n",
    "\n",
    "# # put all columns in a single dataframe\n",
    "test = X_test\n",
    "test['Activity'] = y_test\n",
    "test['ActivityName'] = y_test_labels\n",
    "test.sample()"
   ]
  },
  {
   "cell_type": "markdown",
   "id": "12f2d7c4-bf2b-4c5e-af40-03cdc857652c",
   "metadata": {},
   "source": [
    "## Data Check\n",
    "\n",
    "Check for duplicate and nan/null values in the test and training data"
   ]
  },
  {
   "cell_type": "code",
   "execution_count": 26,
   "id": "dcae37d0-8ca3-4510-b85f-dc4418decbdc",
   "metadata": {},
   "outputs": [
    {
     "name": "stdout",
     "output_type": "stream",
     "text": [
      "Duplicates in training set = 0\n",
      "Duplicates in test set = 0\n",
      "Nulls in training set = 0\n",
      "Nulls in test set = 0\n"
     ]
    }
   ],
   "source": [
    "train_duplicate = sum(train.duplicated())\n",
    "test_duplicate  = sum(test.duplicated())\n",
    "train_null = train.isnull().values.sum()\n",
    "test_null  = test.isnull().values.sum()\n",
    "\n",
    "print(\"Duplicates in training set = \" + str(train_duplicate))\n",
    "print(\"Duplicates in test set = \" + str(test_duplicate))\n",
    "print(\"Nulls in training set = \" + str(train_null))\n",
    "print(\"Nulls in test set = \" + str(test_null))"
   ]
  },
  {
   "cell_type": "markdown",
   "id": "7d65f3c7-f685-4740-b16e-93d99e8054bf",
   "metadata": {},
   "source": [
    "## Renaming Data Columns"
   ]
  },
  {
   "cell_type": "code",
   "execution_count": 31,
   "id": "72dfe786-6b80-451c-86d2-d1a63c2d2f1e",
   "metadata": {},
   "outputs": [],
   "source": [
    "columns = train.columns\n",
    "\n",
    "# Removing '()' from column names\n",
    "columns = columns.str.replace('()','')\n",
    "columns = columns.str.replace('-', '')\n",
    "columns = columns.str.replace(',','')\n",
    "\n",
    "train.columns = columns\n",
    "test.columns = columns"
   ]
  },
  {
   "cell_type": "code",
   "execution_count": null,
   "id": "71ca9361-d8e4-4597-80b4-6f2a6794dbc5",
   "metadata": {},
   "outputs": [],
   "source": []
  }
 ],
 "metadata": {
  "kernelspec": {
   "display_name": "Python 3 (ipykernel)",
   "language": "python",
   "name": "python3"
  },
  "language_info": {
   "codemirror_mode": {
    "name": "ipython",
    "version": 3
   },
   "file_extension": ".py",
   "mimetype": "text/x-python",
   "name": "python",
   "nbconvert_exporter": "python",
   "pygments_lexer": "ipython3",
   "version": "3.11.7"
  }
 },
 "nbformat": 4,
 "nbformat_minor": 5
}
